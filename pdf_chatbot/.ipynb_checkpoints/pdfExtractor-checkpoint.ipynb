{
 "cells": [
  {
   "cell_type": "code",
   "execution_count": 1,
   "id": "dfa0263e-86a4-4003-b808-d2a9c8d5e56f",
   "metadata": {},
   "outputs": [
    {
     "name": "stdout",
     "output_type": "stream",
     "text": [
      "Requirement already satisfied: python-docx in c:\\users\\acer\\anaconda3\\lib\\site-packages (1.1.2)\n",
      "Requirement already satisfied: odfpy in c:\\users\\acer\\anaconda3\\lib\\site-packages (1.4.1)\n",
      "Requirement already satisfied: striprtf in c:\\users\\acer\\anaconda3\\lib\\site-packages (0.0.29)\n",
      "Requirement already satisfied: PyPDF2 in c:\\users\\acer\\anaconda3\\lib\\site-packages (3.0.1)\n",
      "Requirement already satisfied: nltk in c:\\users\\acer\\anaconda3\\lib\\site-packages (3.9.1)\n",
      "Requirement already satisfied: scikit-learn in c:\\users\\acer\\anaconda3\\lib\\site-packages (1.5.1)\n",
      "Requirement already satisfied: pandas in c:\\users\\acer\\anaconda3\\lib\\site-packages (2.2.2)\n",
      "Requirement already satisfied: lxml>=3.1.0 in c:\\users\\acer\\anaconda3\\lib\\site-packages (from python-docx) (5.2.1)\n",
      "Requirement already satisfied: typing-extensions>=4.9.0 in c:\\users\\acer\\anaconda3\\lib\\site-packages (from python-docx) (4.11.0)\n",
      "Requirement already satisfied: defusedxml in c:\\users\\acer\\anaconda3\\lib\\site-packages (from odfpy) (0.7.1)\n",
      "Requirement already satisfied: click in c:\\users\\acer\\anaconda3\\lib\\site-packages (from nltk) (8.1.7)\n",
      "Requirement already satisfied: joblib in c:\\users\\acer\\anaconda3\\lib\\site-packages (from nltk) (1.4.2)\n",
      "Requirement already satisfied: regex>=2021.8.3 in c:\\users\\acer\\anaconda3\\lib\\site-packages (from nltk) (2024.9.11)\n",
      "Requirement already satisfied: tqdm in c:\\users\\acer\\anaconda3\\lib\\site-packages (from nltk) (4.66.5)\n",
      "Requirement already satisfied: numpy>=1.19.5 in c:\\users\\acer\\anaconda3\\lib\\site-packages (from scikit-learn) (1.26.4)\n",
      "Requirement already satisfied: scipy>=1.6.0 in c:\\users\\acer\\anaconda3\\lib\\site-packages (from scikit-learn) (1.13.1)\n",
      "Requirement already satisfied: threadpoolctl>=3.1.0 in c:\\users\\acer\\anaconda3\\lib\\site-packages (from scikit-learn) (3.5.0)\n",
      "Requirement already satisfied: python-dateutil>=2.8.2 in c:\\users\\acer\\appdata\\roaming\\python\\python312\\site-packages (from pandas) (2.9.0.post0)\n",
      "Requirement already satisfied: pytz>=2020.1 in c:\\users\\acer\\anaconda3\\lib\\site-packages (from pandas) (2024.1)\n",
      "Requirement already satisfied: tzdata>=2022.7 in c:\\users\\acer\\anaconda3\\lib\\site-packages (from pandas) (2023.3)\n",
      "Requirement already satisfied: six>=1.5 in c:\\users\\acer\\appdata\\roaming\\python\\python312\\site-packages (from python-dateutil>=2.8.2->pandas) (1.16.0)\n",
      "Requirement already satisfied: colorama in c:\\users\\acer\\appdata\\roaming\\python\\python312\\site-packages (from click->nltk) (0.4.6)\n",
      "Note: you may need to restart the kernel to use updated packages.\n"
     ]
    }
   ],
   "source": [
    "\n",
    "pip install python-docx odfpy striprtf PyPDF2 nltk scikit-learn pandas\n"
   ]
  },
  {
   "cell_type": "code",
   "execution_count": 2,
   "id": "010b2cdd",
   "metadata": {},
   "outputs": [
    {
     "name": "stderr",
     "output_type": "stream",
     "text": [
      "[nltk_data] Downloading package punkt to\n",
      "[nltk_data]     C:\\Users\\Acer\\AppData\\Roaming\\nltk_data...\n",
      "[nltk_data]   Package punkt is already up-to-date!\n",
      "[nltk_data] Downloading package stopwords to\n",
      "[nltk_data]     C:\\Users\\Acer\\AppData\\Roaming\\nltk_data...\n",
      "[nltk_data]   Package stopwords is already up-to-date!\n",
      "[nltk_data] Downloading package wordnet to\n",
      "[nltk_data]     C:\\Users\\Acer\\AppData\\Roaming\\nltk_data...\n",
      "[nltk_data]   Package wordnet is already up-to-date!\n"
     ]
    }
   ],
   "source": [
    "# Cell 1: Imports\n",
    "import os\n",
    "import re\n",
    "import pandas as pd\n",
    "import docx\n",
    "import odf\n",
    "from nltk.tokenize import word_tokenize\n",
    "from nltk.corpus import stopwords\n",
    "from nltk.stem import PorterStemmer, WordNetLemmatizer\n",
    "from sklearn.feature_extraction.text import TfidfVectorizer\n",
    "from docx import Document\n",
    "import PyPDF2\n",
    "\n",
    "# For ODT & RTF support\n",
    "from odf.opendocument import load\n",
    "from odf import text, teletype\n",
    "from striprtf.striprtf import rtf_to_text\n",
    "\n",
    "# NLTK setup (download if needed)\n",
    "import nltk\n",
    "nltk.download('punkt')\n",
    "nltk.download('stopwords')\n",
    "nltk.download('wordnet')\n",
    "\n",
    "stop_words = set(stopwords.words('english'))\n",
    "tokenizer = nltk.tokenize.TreebankWordTokenizer()\n",
    "\n",
    "uploaded_files = set()\n"
   ]
  },
  {
   "cell_type": "code",
   "execution_count": 3,
   "id": "bc10074e-41de-44e3-9b59-5d577bff3295",
   "metadata": {},
   "outputs": [],
   "source": [
    "from preprocessing import preprocess\n",
    "from extractor import pdf_Extractor"
   ]
  },
  {
   "cell_type": "code",
   "execution_count": 4,
   "id": "5ce97d7c",
   "metadata": {},
   "outputs": [
    {
     "name": "stdout",
     "output_type": "stream",
     "text": [
      "Raw text sample:\n",
      " EasyChair Preprint\n",
      "№ 9786\n",
      "Empirical Study of the Impact of Image Quality ,\n",
      "Object Size, and Occlusion to Object Detection\n",
      "Abhijit Kumar, Udit Mital, Ankit Gajera, Shivani Varanasi and\n",
      "Dibyendu Patra\n",
      "EasyChair preprints are intended for rapid\n",
      "dissemination of research results and are\n",
      "integrated with the rest of EasyChair.\n",
      "F ebruary 27, 2023Empirical Study of the Impact of Image Quality,\n",
      "Object size, and Occlusion to Object Detection\n",
      "Abhijit Kumar\n",
      "Bengaluru, India\n",
      "Email: kumarabhijit@gmail.com\n",
      "Shi\n"
     ]
    }
   ],
   "source": [
    "\n",
    "file_path = \"EasyChair-Preprint-9786.pdf\"  \n",
    "\n",
    "# tokens and raw text\n",
    "result = pdf_Extractor.process_file(file_path)\n",
    "\n",
    "if result is not None:\n",
    "    raw_text = result\n",
    "    print(\"Raw text sample:\\n\", raw_text[:500])\n",
    "else:\n",
    "    print(\"File processing failed.\")\n"
   ]
  },
  {
   "cell_type": "code",
   "execution_count": 5,
   "id": "30bb731e-ead4-448d-aec5-a2ecffeb059d",
   "metadata": {},
   "outputs": [
    {
     "data": {
      "text/html": [
       "<div>\n",
       "<style scoped>\n",
       "    .dataframe tbody tr th:only-of-type {\n",
       "        vertical-align: middle;\n",
       "    }\n",
       "\n",
       "    .dataframe tbody tr th {\n",
       "        vertical-align: top;\n",
       "    }\n",
       "\n",
       "    .dataframe thead th {\n",
       "        text-align: right;\n",
       "    }\n",
       "</style>\n",
       "<table border=\"1\" class=\"dataframe\">\n",
       "  <thead>\n",
       "    <tr style=\"text-align: right;\">\n",
       "      <th></th>\n",
       "      <th>Tokens</th>\n",
       "    </tr>\n",
       "  </thead>\n",
       "  <tbody>\n",
       "    <tr>\n",
       "      <th>0</th>\n",
       "      <td>[easychair, preprint, empirical, study, impact...</td>\n",
       "    </tr>\n",
       "  </tbody>\n",
       "</table>\n",
       "</div>"
      ],
      "text/plain": [
       "                                              Tokens\n",
       "0  [easychair, preprint, empirical, study, impact..."
      ]
     },
     "execution_count": 5,
     "metadata": {},
     "output_type": "execute_result"
    }
   ],
   "source": [
    "#  Preprocess \n",
    "cleaned_text = preprocess.clean_text(raw_text)\n",
    "tokens = preprocess.tokenize_tokens(cleaned_text)\n",
    "lemmatized = preprocess.lemmatizing_tokens(tokens)\n",
    "\n",
    "# Wrap tokens in a DataFrame for TF-IDF\n",
    "dfSentence = pd.DataFrame({'Tokens': [lemmatized]})\n",
    "dfSentence\n"
   ]
  },
  {
   "cell_type": "code",
   "execution_count": 6,
   "id": "614fda19-5f2b-4423-8340-925761814522",
   "metadata": {},
   "outputs": [
    {
     "data": {
      "text/html": [
       "<div>\n",
       "<style scoped>\n",
       "    .dataframe tbody tr th:only-of-type {\n",
       "        vertical-align: middle;\n",
       "    }\n",
       "\n",
       "    .dataframe tbody tr th {\n",
       "        vertical-align: top;\n",
       "    }\n",
       "\n",
       "    .dataframe thead th {\n",
       "        text-align: right;\n",
       "    }\n",
       "</style>\n",
       "<table border=\"1\" class=\"dataframe\">\n",
       "  <thead>\n",
       "    <tr style=\"text-align: right;\">\n",
       "      <th></th>\n",
       "      <th>abhijit</th>\n",
       "      <th>ability</th>\n",
       "      <th>able</th>\n",
       "      <th>abstract</th>\n",
       "      <th>accuracy</th>\n",
       "      <th>accurate</th>\n",
       "      <th>accurately</th>\n",
       "      <th>achieve</th>\n",
       "      <th>acknowledge</th>\n",
       "      <th>actively</th>\n",
       "      <th>...</th>\n",
       "      <th>world</th>\n",
       "      <th>worldtraining</th>\n",
       "      <th>www</th>\n",
       "      <th>xiao</th>\n",
       "      <th>xml</th>\n",
       "      <th>xperiments</th>\n",
       "      <th>yan</th>\n",
       "      <th>yolov</th>\n",
       "      <th>zhang</th>\n",
       "      <th>zhu</th>\n",
       "    </tr>\n",
       "  </thead>\n",
       "  <tbody>\n",
       "    <tr>\n",
       "      <th>0</th>\n",
       "      <td>0.008437</td>\n",
       "      <td>0.004218</td>\n",
       "      <td>0.004218</td>\n",
       "      <td>0.004218</td>\n",
       "      <td>0.134989</td>\n",
       "      <td>0.012655</td>\n",
       "      <td>0.012655</td>\n",
       "      <td>0.016874</td>\n",
       "      <td>0.004218</td>\n",
       "      <td>0.004218</td>\n",
       "      <td>...</td>\n",
       "      <td>0.008437</td>\n",
       "      <td>0.004218</td>\n",
       "      <td>0.004218</td>\n",
       "      <td>0.004218</td>\n",
       "      <td>0.004218</td>\n",
       "      <td>0.016874</td>\n",
       "      <td>0.004218</td>\n",
       "      <td>0.008437</td>\n",
       "      <td>0.004218</td>\n",
       "      <td>0.004218</td>\n",
       "    </tr>\n",
       "  </tbody>\n",
       "</table>\n",
       "<p>1 rows × 540 columns</p>\n",
       "</div>"
      ],
      "text/plain": [
       "    abhijit   ability      able  abstract  accuracy  accurate  accurately  \\\n",
       "0  0.008437  0.004218  0.004218  0.004218  0.134989  0.012655    0.012655   \n",
       "\n",
       "    achieve  acknowledge  actively  ...     world  worldtraining       www  \\\n",
       "0  0.016874     0.004218  0.004218  ...  0.008437       0.004218  0.004218   \n",
       "\n",
       "       xiao       xml  xperiments       yan     yolov     zhang       zhu  \n",
       "0  0.004218  0.004218    0.016874  0.004218  0.008437  0.004218  0.004218  \n",
       "\n",
       "[1 rows x 540 columns]"
      ]
     },
     "execution_count": 6,
     "metadata": {},
     "output_type": "execute_result"
    }
   ],
   "source": [
    "#compute TF-IDF\n",
    "tfidf_df, feature_names = preprocess.compute_tfidf(dfSentence, token_column='Tokens')\n",
    "tfidf_df.head()\n"
   ]
  },
  {
   "cell_type": "code",
   "execution_count": 7,
   "id": "ad0004bf-4fb1-4b5f-8da7-c9fd9cab2b71",
   "metadata": {},
   "outputs": [
    {
     "data": {
      "text/html": [
       "<div>\n",
       "<style scoped>\n",
       "    .dataframe tbody tr th:only-of-type {\n",
       "        vertical-align: middle;\n",
       "    }\n",
       "\n",
       "    .dataframe tbody tr th {\n",
       "        vertical-align: top;\n",
       "    }\n",
       "\n",
       "    .dataframe thead th {\n",
       "        text-align: right;\n",
       "    }\n",
       "</style>\n",
       "<table border=\"1\" class=\"dataframe\">\n",
       "  <thead>\n",
       "    <tr style=\"text-align: right;\">\n",
       "      <th></th>\n",
       "      <th>Tokens</th>\n",
       "    </tr>\n",
       "  </thead>\n",
       "  <tbody>\n",
       "    <tr>\n",
       "      <th>0</th>\n",
       "      <td>[easychair, preprint, empirical, study, impact...</td>\n",
       "    </tr>\n",
       "  </tbody>\n",
       "</table>\n",
       "</div>"
      ],
      "text/plain": [
       "                                              Tokens\n",
       "0  [easychair, preprint, empirical, study, impact..."
      ]
     },
     "execution_count": 7,
     "metadata": {},
     "output_type": "execute_result"
    }
   ],
   "source": [
    "dfSentence.head(20)"
   ]
  },
  {
   "cell_type": "code",
   "execution_count": 17,
   "id": "aadbc7e6-8fc5-4549-8632-023d9ed4523e",
   "metadata": {},
   "outputs": [
    {
     "data": {
      "text/html": [
       "<div>\n",
       "<style scoped>\n",
       "    .dataframe tbody tr th:only-of-type {\n",
       "        vertical-align: middle;\n",
       "    }\n",
       "\n",
       "    .dataframe tbody tr th {\n",
       "        vertical-align: top;\n",
       "    }\n",
       "\n",
       "    .dataframe thead th {\n",
       "        text-align: right;\n",
       "    }\n",
       "</style>\n",
       "<table border=\"1\" class=\"dataframe\">\n",
       "  <thead>\n",
       "    <tr style=\"text-align: right;\">\n",
       "      <th></th>\n",
       "      <th>Token</th>\n",
       "    </tr>\n",
       "  </thead>\n",
       "  <tbody>\n",
       "    <tr>\n",
       "      <th>0</th>\n",
       "      <td>easychair</td>\n",
       "    </tr>\n",
       "    <tr>\n",
       "      <th>1</th>\n",
       "      <td>preprint</td>\n",
       "    </tr>\n",
       "    <tr>\n",
       "      <th>2</th>\n",
       "      <td>empirical</td>\n",
       "    </tr>\n",
       "    <tr>\n",
       "      <th>3</th>\n",
       "      <td>study</td>\n",
       "    </tr>\n",
       "    <tr>\n",
       "      <th>4</th>\n",
       "      <td>impact</td>\n",
       "    </tr>\n",
       "    <tr>\n",
       "      <th>...</th>\n",
       "      <td>...</td>\n",
       "    </tr>\n",
       "    <tr>\n",
       "      <th>2091</th>\n",
       "      <td>mbkinaci</td>\n",
       "    </tr>\n",
       "    <tr>\n",
       "      <th>2092</th>\n",
       "      <td>fruit</td>\n",
       "    </tr>\n",
       "    <tr>\n",
       "      <th>2093</th>\n",
       "      <td>images</td>\n",
       "    </tr>\n",
       "    <tr>\n",
       "      <th>2094</th>\n",
       "      <td>object</td>\n",
       "    </tr>\n",
       "    <tr>\n",
       "      <th>2095</th>\n",
       "      <td>detection</td>\n",
       "    </tr>\n",
       "  </tbody>\n",
       "</table>\n",
       "<p>2096 rows × 1 columns</p>\n",
       "</div>"
      ],
      "text/plain": [
       "          Token\n",
       "0     easychair\n",
       "1      preprint\n",
       "2     empirical\n",
       "3         study\n",
       "4        impact\n",
       "...         ...\n",
       "2091   mbkinaci\n",
       "2092      fruit\n",
       "2093     images\n",
       "2094     object\n",
       "2095  detection\n",
       "\n",
       "[2096 rows x 1 columns]"
      ]
     },
     "execution_count": 17,
     "metadata": {},
     "output_type": "execute_result"
    }
   ],
   "source": [
    "df = pd.DataFrame(tokens, columns=[\"Token\"])\n",
    "df"
   ]
  },
  {
   "cell_type": "code",
   "execution_count": null,
   "id": "6dc4e651-bc76-4a40-b1b4-faf9f2418038",
   "metadata": {},
   "outputs": [],
   "source": []
  }
 ],
 "metadata": {
  "kernelspec": {
   "display_name": "Python 3 (ipykernel)",
   "language": "python",
   "name": "python3"
  },
  "language_info": {
   "codemirror_mode": {
    "name": "ipython",
    "version": 3
   },
   "file_extension": ".py",
   "mimetype": "text/x-python",
   "name": "python",
   "nbconvert_exporter": "python",
   "pygments_lexer": "ipython3",
   "version": "3.12.7"
  }
 },
 "nbformat": 4,
 "nbformat_minor": 5
}
